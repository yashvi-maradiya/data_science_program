{
 "cells": [
  {
   "cell_type": "code",
   "execution_count": 2,
   "id": "aa48ddbc-0766-4fbe-b125-820939522d6f",
   "metadata": {},
   "outputs": [
    {
     "data": {
      "text/plain": [
       "\"Problem: Utilize Pandas to analyze a dataset containing information about daily temperature recordings across different cities. \\nThe dataset includes columns: 'City', 'Date', and 'Temperature'. Write a Python script to:\\n\\nCalculate the average temperature for each city.\\nDetermine the city with the highest average temperature.\\nFind the date with the lowest recorded temperature across all cities.\""
      ]
     },
     "execution_count": 2,
     "metadata": {},
     "output_type": "execute_result"
    }
   ],
   "source": [
    "'''Problem: Utilize Pandas to analyze a dataset containing information about daily temperature recordings across different cities. \n",
    "The dataset includes columns: 'City', 'Date', and 'Temperature'. Write a Python script to:\n",
    "\n",
    "Calculate the average temperature for each city.\n",
    "Determine the city with the highest average temperature.\n",
    "Find the date with the lowest recorded temperature across all cities.'''"
   ]
  },
  {
   "cell_type": "code",
   "execution_count": 3,
   "id": "0f3e6ffb-2526-4440-854b-d57912de052c",
   "metadata": {},
   "outputs": [],
   "source": [
    "import pandas as pd"
   ]
  },
  {
   "cell_type": "code",
   "execution_count": 4,
   "id": "1de82ca8-0690-426f-be47-638ec0ecc88f",
   "metadata": {},
   "outputs": [],
   "source": [
    "data = {\n",
    "    'City': ['Nashik', 'Delhi', 'Bangalore', 'Hyderabad', 'Chennai','Surat','Pune','Delhi','Surat'],\n",
    "    'Date':['01-02-2024','12-01-2024','01-03-2024','03-01-2024','04-01-2024','05-02-2024','07-03-2024','02-04-2024','04-02-2024'], \n",
    "    'Temperature': [30, 32, 28.5, 36, 44,20.5,38,45,28]\n",
    "}\n",
    "df = pd.DataFrame(data)\n",
    "df.to_csv('temperature_data.csv', index=False)"
   ]
  },
  {
   "cell_type": "code",
   "execution_count": 5,
   "id": "084b3359-b7d9-4047-ac7e-61fcc3ceed70",
   "metadata": {},
   "outputs": [
    {
     "data": {
      "text/html": [
       "<div>\n",
       "<style scoped>\n",
       "    .dataframe tbody tr th:only-of-type {\n",
       "        vertical-align: middle;\n",
       "    }\n",
       "\n",
       "    .dataframe tbody tr th {\n",
       "        vertical-align: top;\n",
       "    }\n",
       "\n",
       "    .dataframe thead th {\n",
       "        text-align: right;\n",
       "    }\n",
       "</style>\n",
       "<table border=\"1\" class=\"dataframe\">\n",
       "  <thead>\n",
       "    <tr style=\"text-align: right;\">\n",
       "      <th></th>\n",
       "      <th>City</th>\n",
       "      <th>Date</th>\n",
       "      <th>Temperature</th>\n",
       "    </tr>\n",
       "  </thead>\n",
       "  <tbody>\n",
       "    <tr>\n",
       "      <th>0</th>\n",
       "      <td>Nashik</td>\n",
       "      <td>01-02-2024</td>\n",
       "      <td>30.0</td>\n",
       "    </tr>\n",
       "    <tr>\n",
       "      <th>1</th>\n",
       "      <td>Delhi</td>\n",
       "      <td>12-01-2024</td>\n",
       "      <td>32.0</td>\n",
       "    </tr>\n",
       "    <tr>\n",
       "      <th>2</th>\n",
       "      <td>Bangalore</td>\n",
       "      <td>01-03-2024</td>\n",
       "      <td>28.5</td>\n",
       "    </tr>\n",
       "    <tr>\n",
       "      <th>3</th>\n",
       "      <td>Hyderabad</td>\n",
       "      <td>03-01-2024</td>\n",
       "      <td>36.0</td>\n",
       "    </tr>\n",
       "    <tr>\n",
       "      <th>4</th>\n",
       "      <td>Chennai</td>\n",
       "      <td>04-01-2024</td>\n",
       "      <td>44.0</td>\n",
       "    </tr>\n",
       "    <tr>\n",
       "      <th>5</th>\n",
       "      <td>Surat</td>\n",
       "      <td>05-02-2024</td>\n",
       "      <td>20.5</td>\n",
       "    </tr>\n",
       "    <tr>\n",
       "      <th>6</th>\n",
       "      <td>Pune</td>\n",
       "      <td>07-03-2024</td>\n",
       "      <td>38.0</td>\n",
       "    </tr>\n",
       "    <tr>\n",
       "      <th>7</th>\n",
       "      <td>Delhi</td>\n",
       "      <td>02-04-2024</td>\n",
       "      <td>45.0</td>\n",
       "    </tr>\n",
       "    <tr>\n",
       "      <th>8</th>\n",
       "      <td>Surat</td>\n",
       "      <td>04-02-2024</td>\n",
       "      <td>28.0</td>\n",
       "    </tr>\n",
       "  </tbody>\n",
       "</table>\n",
       "</div>"
      ],
      "text/plain": [
       "        City        Date  Temperature\n",
       "0     Nashik  01-02-2024         30.0\n",
       "1      Delhi  12-01-2024         32.0\n",
       "2  Bangalore  01-03-2024         28.5\n",
       "3  Hyderabad  03-01-2024         36.0\n",
       "4    Chennai  04-01-2024         44.0\n",
       "5      Surat  05-02-2024         20.5\n",
       "6       Pune  07-03-2024         38.0\n",
       "7      Delhi  02-04-2024         45.0\n",
       "8      Surat  04-02-2024         28.0"
      ]
     },
     "execution_count": 5,
     "metadata": {},
     "output_type": "execute_result"
    }
   ],
   "source": [
    "data = pd.read_csv('temperature_data.csv')\n",
    "data"
   ]
  },
  {
   "cell_type": "code",
   "execution_count": 6,
   "id": "fd3d97c5-dba3-452d-bb0f-a0c82f8bf8b4",
   "metadata": {},
   "outputs": [],
   "source": [
    "#Calculate the average temperature for each city.\n",
    "average_temperature = data.groupby(\"City\")[\"Temperature\"].mean().reset_index()"
   ]
  },
  {
   "cell_type": "code",
   "execution_count": 7,
   "id": "34a7962f-42c7-4099-a4ca-e931d876da71",
   "metadata": {},
   "outputs": [
    {
     "data": {
      "text/html": [
       "<div>\n",
       "<style scoped>\n",
       "    .dataframe tbody tr th:only-of-type {\n",
       "        vertical-align: middle;\n",
       "    }\n",
       "\n",
       "    .dataframe tbody tr th {\n",
       "        vertical-align: top;\n",
       "    }\n",
       "\n",
       "    .dataframe thead th {\n",
       "        text-align: right;\n",
       "    }\n",
       "</style>\n",
       "<table border=\"1\" class=\"dataframe\">\n",
       "  <thead>\n",
       "    <tr style=\"text-align: right;\">\n",
       "      <th></th>\n",
       "      <th>City</th>\n",
       "      <th>Temperature</th>\n",
       "    </tr>\n",
       "  </thead>\n",
       "  <tbody>\n",
       "    <tr>\n",
       "      <th>0</th>\n",
       "      <td>Bangalore</td>\n",
       "      <td>28.50</td>\n",
       "    </tr>\n",
       "    <tr>\n",
       "      <th>1</th>\n",
       "      <td>Chennai</td>\n",
       "      <td>44.00</td>\n",
       "    </tr>\n",
       "    <tr>\n",
       "      <th>2</th>\n",
       "      <td>Delhi</td>\n",
       "      <td>38.50</td>\n",
       "    </tr>\n",
       "    <tr>\n",
       "      <th>3</th>\n",
       "      <td>Hyderabad</td>\n",
       "      <td>36.00</td>\n",
       "    </tr>\n",
       "    <tr>\n",
       "      <th>4</th>\n",
       "      <td>Nashik</td>\n",
       "      <td>30.00</td>\n",
       "    </tr>\n",
       "    <tr>\n",
       "      <th>5</th>\n",
       "      <td>Pune</td>\n",
       "      <td>38.00</td>\n",
       "    </tr>\n",
       "    <tr>\n",
       "      <th>6</th>\n",
       "      <td>Surat</td>\n",
       "      <td>24.25</td>\n",
       "    </tr>\n",
       "  </tbody>\n",
       "</table>\n",
       "</div>"
      ],
      "text/plain": [
       "        City  Temperature\n",
       "0  Bangalore        28.50\n",
       "1    Chennai        44.00\n",
       "2      Delhi        38.50\n",
       "3  Hyderabad        36.00\n",
       "4     Nashik        30.00\n",
       "5       Pune        38.00\n",
       "6      Surat        24.25"
      ]
     },
     "execution_count": 7,
     "metadata": {},
     "output_type": "execute_result"
    }
   ],
   "source": [
    "average_temperature"
   ]
  },
  {
   "cell_type": "code",
   "execution_count": 10,
   "id": "de43ffe8-18d4-478c-8582-84f81fea1cf8",
   "metadata": {},
   "outputs": [
    {
     "data": {
      "text/plain": [
       "City           Surat\n",
       "Temperature     44.0\n",
       "dtype: object"
      ]
     },
     "execution_count": 10,
     "metadata": {},
     "output_type": "execute_result"
    }
   ],
   "source": [
    "#Determine the city with the highest average temperature.\n",
    "highest_temp = average_temperature.max()\n",
    "highest_temp"
   ]
  },
  {
   "cell_type": "code",
   "execution_count": 9,
   "id": "805258b8-4322-4d23-a041-ca68e9f04775",
   "metadata": {},
   "outputs": [
    {
     "data": {
      "text/html": [
       "<div>\n",
       "<style scoped>\n",
       "    .dataframe tbody tr th:only-of-type {\n",
       "        vertical-align: middle;\n",
       "    }\n",
       "\n",
       "    .dataframe tbody tr th {\n",
       "        vertical-align: top;\n",
       "    }\n",
       "\n",
       "    .dataframe thead th {\n",
       "        text-align: right;\n",
       "    }\n",
       "</style>\n",
       "<table border=\"1\" class=\"dataframe\">\n",
       "  <thead>\n",
       "    <tr style=\"text-align: right;\">\n",
       "      <th></th>\n",
       "      <th>index</th>\n",
       "      <th>0</th>\n",
       "    </tr>\n",
       "  </thead>\n",
       "  <tbody>\n",
       "    <tr>\n",
       "      <th>0</th>\n",
       "      <td>City</td>\n",
       "      <td>Bangalore</td>\n",
       "    </tr>\n",
       "    <tr>\n",
       "      <th>1</th>\n",
       "      <td>Date</td>\n",
       "      <td>01-02-2024</td>\n",
       "    </tr>\n",
       "    <tr>\n",
       "      <th>2</th>\n",
       "      <td>Temperature</td>\n",
       "      <td>20.5</td>\n",
       "    </tr>\n",
       "  </tbody>\n",
       "</table>\n",
       "</div>"
      ],
      "text/plain": [
       "         index           0\n",
       "0         City   Bangalore\n",
       "1         Date  01-02-2024\n",
       "2  Temperature        20.5"
      ]
     },
     "execution_count": 9,
     "metadata": {},
     "output_type": "execute_result"
    }
   ],
   "source": [
    "#Find the date with the lowest recorded temperature across all cities.\n",
    "lowest_temp = data.min().reset_index()\n",
    "lowest_temp"
   ]
  },
  {
   "cell_type": "code",
   "execution_count": null,
   "id": "eeb1d26b-d258-4691-bea2-1f0f949273c1",
   "metadata": {},
   "outputs": [],
   "source": []
  }
 ],
 "metadata": {
  "kernelspec": {
   "display_name": "Python 3 (ipykernel)",
   "language": "python",
   "name": "python3"
  },
  "language_info": {
   "codemirror_mode": {
    "name": "ipython",
    "version": 3
   },
   "file_extension": ".py",
   "mimetype": "text/x-python",
   "name": "python",
   "nbconvert_exporter": "python",
   "pygments_lexer": "ipython3",
   "version": "3.10.6"
  }
 },
 "nbformat": 4,
 "nbformat_minor": 5
}
