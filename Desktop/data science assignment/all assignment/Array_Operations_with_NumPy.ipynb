{
 "cells": [
  {
   "cell_type": "code",
   "execution_count": 1,
   "id": "35bd1ffd-8bf5-47b4-afff-bf0c69bf5562",
   "metadata": {},
   "outputs": [
    {
     "data": {
      "text/plain": [
       "'Problem: Create two NumPy arrays, A and B, of size 5x5 filled with random integers. Write a Python function to:\\n\\nFind the element-wise sum of A and B.\\nCompute the dot product of A and B.\\nCalculate the mean and standard deviation of each row in A and B.'"
      ]
     },
     "execution_count": 1,
     "metadata": {},
     "output_type": "execute_result"
    }
   ],
   "source": [
    "'''Problem: Create two NumPy arrays, A and B, of size 5x5 filled with random integers. Write a Python function to:\n",
    "\n",
    "Find the element-wise sum of A and B.\n",
    "Compute the dot product of A and B.\n",
    "Calculate the mean and standard deviation of each row in A and B.'''"
   ]
  },
  {
   "cell_type": "code",
   "execution_count": 2,
   "id": "412ef7e2-858b-45fb-ae8b-71c2c193dc75",
   "metadata": {},
   "outputs": [],
   "source": [
    "import numpy as np"
   ]
  },
  {
   "cell_type": "code",
   "execution_count": 5,
   "id": "9cdaf6b5-1a2e-4bc6-b245-e5bda6b22c00",
   "metadata": {},
   "outputs": [
    {
     "data": {
      "text/plain": [
       "array([[7, 4, 8, 7, 1],\n",
       "       [0, 6, 4, 1, 0],\n",
       "       [0, 5, 8, 0, 6],\n",
       "       [4, 3, 0, 0, 3],\n",
       "       [5, 1, 6, 3, 4]])"
      ]
     },
     "execution_count": 5,
     "metadata": {},
     "output_type": "execute_result"
    }
   ],
   "source": [
    "# create a numpy array A\n",
    "A = np.random.randint(0, 10, size=(5, 5))\n",
    "A"
   ]
  },
  {
   "cell_type": "code",
   "execution_count": 6,
   "id": "e3438a53-988c-4f88-b493-ecfb59333691",
   "metadata": {},
   "outputs": [
    {
     "data": {
      "text/plain": [
       "array([[5, 8, 1, 5, 2],\n",
       "       [3, 9, 3, 7, 0],\n",
       "       [8, 1, 9, 6, 5],\n",
       "       [5, 7, 8, 5, 6],\n",
       "       [0, 3, 0, 7, 7]])"
      ]
     },
     "execution_count": 6,
     "metadata": {},
     "output_type": "execute_result"
    }
   ],
   "source": [
    "# create a numpy array B\n",
    "B = np.random.randint(0, 10, size=(5, 5))\n",
    "B"
   ]
  },
  {
   "cell_type": "code",
   "execution_count": 7,
   "id": "e7773584-7538-426f-bdc4-dde7481a842d",
   "metadata": {},
   "outputs": [
    {
     "data": {
      "text/plain": [
       "array([[12, 12,  9, 12,  3],\n",
       "       [ 3, 15,  7,  8,  0],\n",
       "       [ 8,  6, 17,  6, 11],\n",
       "       [ 9, 10,  8,  5,  9],\n",
       "       [ 5,  4,  6, 10, 11]])"
      ]
     },
     "execution_count": 7,
     "metadata": {},
     "output_type": "execute_result"
    }
   ],
   "source": [
    "# Find the element-wise sum of A and B.\n",
    "sum_result = np.add(A, B)\n",
    "sum_result"
   ]
  },
  {
   "cell_type": "code",
   "execution_count": 8,
   "id": "ae4c98cb-2423-4a4f-84cb-f7f39233a531",
   "metadata": {},
   "outputs": [
    {
     "data": {
      "text/plain": [
       "array([[146, 152, 147, 153, 103],\n",
       "       [ 55,  65,  62,  71,  26],\n",
       "       [ 79,  71,  87, 125,  82],\n",
       "       [ 29,  68,  13,  62,  29],\n",
       "       [ 91,  88,  86, 111,  86]])"
      ]
     },
     "execution_count": 8,
     "metadata": {},
     "output_type": "execute_result"
    }
   ],
   "source": [
    "#Compute the dot product of A and B.\n",
    "dot_product_result = np.dot(A, B)\n",
    "dot_product_result"
   ]
  },
  {
   "cell_type": "code",
   "execution_count": 11,
   "id": "b1ed5832-c2f0-45aa-a6d4-15a041fb982d",
   "metadata": {},
   "outputs": [
    {
     "data": {
      "text/plain": [
       "array([5.4, 2.2, 3.8, 2. , 3.8])"
      ]
     },
     "execution_count": 11,
     "metadata": {},
     "output_type": "execute_result"
    }
   ],
   "source": [
    "#Calculate the mean and standard deviation of each row in A\n",
    "mean_A = np.mean(A, axis=1)\n",
    "mean_A"
   ]
  },
  {
   "cell_type": "code",
   "execution_count": 12,
   "id": "feb147ea-bb47-4170-8751-10fdc4816116",
   "metadata": {},
   "outputs": [
    {
     "data": {
      "text/plain": [
       "array([2.57681975, 2.4       , 3.24961536, 1.67332005, 1.72046505])"
      ]
     },
     "execution_count": 12,
     "metadata": {},
     "output_type": "execute_result"
    }
   ],
   "source": [
    "std_A = np.std(A, axis=1)\n",
    "std_A"
   ]
  },
  {
   "cell_type": "code",
   "execution_count": 13,
   "id": "1b3438f3-9ea1-40f2-9cfe-3ff087f40315",
   "metadata": {},
   "outputs": [
    {
     "data": {
      "text/plain": [
       "array([4.2, 4.4, 5.8, 6.2, 3.4])"
      ]
     },
     "execution_count": 13,
     "metadata": {},
     "output_type": "execute_result"
    }
   ],
   "source": [
    "#Calculate the mean and standard deviation of each row in B\n",
    "mean_B = np.mean(B,axis=1)\n",
    "mean_B"
   ]
  },
  {
   "cell_type": "code",
   "execution_count": 14,
   "id": "233d7e04-b0cc-4e2d-aadc-3b06099b6c9d",
   "metadata": {},
   "outputs": [
    {
     "data": {
      "text/plain": [
       "array([2.48193473, 3.2       , 2.78567766, 1.16619038, 3.13687743])"
      ]
     },
     "execution_count": 14,
     "metadata": {},
     "output_type": "execute_result"
    }
   ],
   "source": [
    "std_B = np.std(B,axis=1)\n",
    "std_B"
   ]
  },
  {
   "cell_type": "code",
   "execution_count": null,
   "id": "24773000-2b68-45bb-9450-3b8cea67e528",
   "metadata": {},
   "outputs": [],
   "source": []
  }
 ],
 "metadata": {
  "kernelspec": {
   "display_name": "Python 3 (ipykernel)",
   "language": "python",
   "name": "python3"
  },
  "language_info": {
   "codemirror_mode": {
    "name": "ipython",
    "version": 3
   },
   "file_extension": ".py",
   "mimetype": "text/x-python",
   "name": "python",
   "nbconvert_exporter": "python",
   "pygments_lexer": "ipython3",
   "version": "3.10.6"
  }
 },
 "nbformat": 4,
 "nbformat_minor": 5
}
